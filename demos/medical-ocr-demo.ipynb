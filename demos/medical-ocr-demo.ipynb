{
 "nbformat": 4,
 "nbformat_minor": 0,
 "metadata": {
  "colab": {
   "name": "medical-ocr-demo.ipynb",
   "provenance": [],
   "collapsed_sections": []
  },
  "kernelspec": {
   "name": "python3",
   "display_name": "Python 3"
  },
  "language_info": {
   "name": "python",
   "version": "3.8.0"
  }
 },
 "cells": [
  {
   "cell_type": "markdown",
   "metadata": {},
   "source": "# 医疗文档图像文字识别演示\n\n> 🏥 使用PaddleOCR从医疗文档PNG图像中提取文本并保存为CSV\n\n**版本**: v1.2.0 (实现本地测试运行环境) | **更新时间**: 2025-08-17\n\n## 🎯 功能特性\n- 📄 支持医疗文档图像文字识别\n- 🤖 使用PaddleOCR高精度识别引擎\n- 📊 自动生成结构化CSV报告\n- 🖼️ 支持多种图像格式输入\n- 💡 简单易用的交互界面\n- 🏠 完整本地开发环境支持\n\n## 🚀 使用说明\n\n### Colab环境\n1. 运行环境检查和依赖安装\n2. 上传医疗文档图像\n3. 执行OCR文字识别\n4. 下载CSV结果文件\n\n### 本地环境\n```bash\n# 一键启动 (推荐)\n./start_local.sh\n\n# 手动启动\nsource venv/bin/activate && jupyter notebook\n```\n\n---\n*使用 Claude Code 开发，支持 Google Colab 和本地运行 🚀*"
  },
  {
   "cell_type": "code",
   "execution_count": null,
   "metadata": {},
   "outputs": [],
   "source": "# ================================\n# 环境检查和基础设置\n# ================================\n\nimport warnings\nwarnings.filterwarnings(\"ignore\")\n\ndef check_environment():\n    \"\"\"检查运行环境并显示系统信息\"\"\"\n    print(\"🔍 检查运行环境...\")\n    \n    # 检查是否在Colab环境\n    try:\n        import google.colab  # noqa: F401\n        print(\"✅ 运行在Google Colab\")\n        in_colab = True\n    except ImportError:\n        print(\"ℹ️ 运行在本地环境\")\n        in_colab = False\n    \n    # 检查GPU\n    try:\n        import torch\n        device = 'cuda' if torch.cuda.is_available() else 'cpu'\n        print(f\"✅ 计算设备: {device}\")\n        if device == 'cuda':\n            print(f\"✅ GPU型号: {torch.cuda.get_device_name(0)}\")\n            print(f\"✅ GPU内存: {torch.cuda.get_device_properties(0).total_memory / 1e9:.1f} GB\")\n    except ImportError:\n        print(\"ℹ️ PyTorch未安装，使用CPU模式\")\n    \n    return in_colab\n\n# 运行环境检查\nin_colab = check_environment()"
  },
  {
   "cell_type": "code",
   "execution_count": null,
   "metadata": {},
   "outputs": [],
   "source": "# ================================\n# 安装必要的依赖包\n# ================================\n\ndef install_dependencies():\n    \"\"\"安装项目所需的依赖包\"\"\"\n    print(\"📦 安装医疗OCR项目依赖...\")\n    \n    import subprocess\n    import sys\n    \n    # 核心依赖包列表\n    packages = [\n        'paddlepaddle',\n        'paddleocr',\n        'pandas',\n        'pillow',\n        'opencv-python',\n        'tqdm',\n        'gradio'\n    ]\n    \n    for package in packages:\n        try:\n            if package == 'opencv-python':\n                import cv2  # noqa: F401\n                print(f\"✅ {package} 已安装\")\n            elif package == 'pillow':\n                from PIL import Image  # noqa: F401\n                print(f\"✅ {package} 已安装\")\n            else:\n                __import__(package.replace('-', '_'))\n                print(f\"✅ {package} 已安装\")\n        except ImportError:\n            print(f\"📥 安装 {package}...\")\n            subprocess.check_call([sys.executable, '-m', 'pip', 'install', package])\n    \n    print(\"✅ 所有依赖安装完成!\")\n\n# 安装依赖\ninstall_dependencies()"
  },
  {
   "cell_type": "code",
   "execution_count": null,
   "metadata": {},
   "outputs": [],
   "source": "# ================================\n# 导入必要的库\n# ================================\n\ntry:\n    import pandas as pd  # type: ignore\n    from PIL import Image\n    from tqdm import tqdm\n    from paddleocr import PaddleOCR  # type: ignore\n    import gradio as gr  # type: ignore\n    print(\"📚 所有库导入成功!\")\nexcept ImportError as e:\n    print(f\"❌ 库导入失败: {e}\")\n    print(\"💡 请先运行依赖安装单元格\")"
  },
  {
   "cell_type": "code",
   "execution_count": null,
   "metadata": {},
   "outputs": [],
   "source": "# ================================\n# 医疗OCR核心功能类\n# ================================\n\nclass MedicalOCRProcessor:\n    def __init__(self):\n        \"\"\"初始化医疗OCR处理器\"\"\"\n        print(\"🏥 初始化医疗OCR处理器...\")\n        \n        # 检查GPU可用性\n        try:\n            import torch\n            use_gpu = torch.cuda.is_available()\n            gpu_info = f\"GPU可用: {use_gpu}\"\n            if use_gpu:\n                gpu_info += f\" (设备: {torch.cuda.get_device_name(0)})\"\n            print(f\"⚡ {gpu_info}\")\n        except ImportError:\n            use_gpu = False\n            print(\"ℹ️ PyTorch未安装，使用CPU模式\")\n        \n        # 初始化PaddleOCR，支持中英文\n        # 新版PaddleOCR会自动检测并使用GPU（如果可用）\n        self.ocr = PaddleOCR(use_angle_cls=True, lang='ch')\n        \n        print(\"✅ OCR引擎初始化完成\")\n    \n    def extract_text_from_image(self, image_path):\n        \"\"\"从图像中提取文字\"\"\"\n        try:\n            # 使用PaddleOCR识别文字（移除cls参数以兼容新版API）\n            result = self.ocr.ocr(image_path)\n            \n            # 提取文字内容\n            extracted_texts = []\n            \n            # 确保result不为空且包含有效数据\n            if result and len(result) > 0 and result[0] is not None:\n                for line in result[0]:\n                    # 确保line有足够的元素且结构正确\n                    if (line and len(line) >= 2 and \n                        line[1] and len(line[1]) >= 2 and \n                        isinstance(line[1][0], str)):\n                        \n                        text = line[1][0]\n                        confidence = line[1][1]\n                        \n                        # 只添加非空文字\n                        if text and text.strip():\n                            extracted_texts.append({\n                                'text': text.strip(),\n                                'confidence': confidence\n                            })\n            \n            if not extracted_texts:\n                print(\"⚠️ 未检测到任何文字内容\")\n            else:\n                print(f\"✅ 成功识别 {len(extracted_texts)} 行文字\")\n            \n            return extracted_texts\n        \n        except Exception as e:\n            print(f\"❌ 图像处理失败: {str(e)}\")\n            import traceback\n            print(f\"详细错误信息: {traceback.format_exc()}\")\n            return []\n    \n    def process_single_image(self, image_path):\n        \"\"\"处理单个图像文件\"\"\"\n        import os\n        print(f\"📄 处理图像: {os.path.basename(image_path)}\")\n        \n        # 提取文字\n        extracted_texts = self.extract_text_from_image(image_path)\n        \n        # 整理结果\n        results = []\n        for i, item in enumerate(extracted_texts):\n            results.append({\n                'file_name': os.path.basename(image_path),\n                'line_number': i + 1,\n                'extracted_text': item['text'],\n                'confidence': round(item['confidence'], 4)\n            })\n        \n        return results\n    \n    def process_multiple_images(self, image_paths):\n        \"\"\"批量处理多个图像文件\"\"\"\n        all_results = []\n        \n        print(f\"📊 开始批量处理 {len(image_paths)} 个图像文件...\")\n        \n        for image_path in tqdm(image_paths, desc=\"处理进度\"):\n            results = self.process_single_image(image_path)\n            all_results.extend(results)\n        \n        return all_results\n    \n    def save_results_to_csv(self, results, output_path):\n        \"\"\"保存结果到CSV文件\"\"\"\n        if not results:\n            # 如果没有结果，创建空的DataFrame\n            df = pd.DataFrame(columns=['file_name', 'line_number', 'extracted_text', 'confidence'])\n        else:\n            df = pd.DataFrame(results)\n        \n        df.to_csv(output_path, index=False, encoding='utf-8-sig')\n        print(f\"💾 结果已保存到: {output_path}\")\n        return df\n\n# 初始化OCR处理器\nocr_processor = MedicalOCRProcessor()"
  },
  {
   "cell_type": "code",
   "execution_count": null,
   "metadata": {},
   "outputs": [],
   "source": "# ================================\n# 创建示例医疗文档（用于演示）- 修复字体和绘制问题\n# ================================\n\ndef create_sample_medical_document():\n    \"\"\"创建示例医疗文档图像用于演示\"\"\"\n    from PIL import Image, ImageDraw, ImageFont\n    import os\n    \n    # 创建示例图像 - 使用更大尺寸和更好对比度\n    img = Image.new('RGB', (1000, 800), color='white')\n    draw = ImageDraw.Draw(img)\n    \n    # 添加边框增加文档感\n    draw.rectangle([(20, 20), (980, 780)], outline='black', width=2)\n    \n    # 使用英文内容确保字体兼容性\n    sample_text = [\n        \"MEDICAL REPORT\",\n        \"Hospital: XX City People's Hospital\",\n        \"Patient: Zhang San\",\n        \"Gender: Male    Age: 45\",\n        \"Department: Cardiology\", \n        \"Doctor: Dr. Li\",\n        \"Diagnosis: Hypertension, Diabetes\",\n        \"Prescription:\",\n        \"1. Antihypertensive 10mg daily\",\n        \"2. Antidiabetic 5mg twice daily\",\n        \"Doctor Signature: Dr. Li\",\n        \"Date: 2025-08-17\"\n    ]\n    \n    # 获取更大更清晰的字体\n    font = None\n    font_size = 32  # 增大字体\n    \n    try:\n        # 尝试使用系统字体\n        font_paths = [\n            '/usr/share/fonts/truetype/dejavu/DejaVuSans-Bold.ttf',\n            '/usr/share/fonts/truetype/liberation/LiberationSans-Bold.ttf',\n            '/usr/share/fonts/truetype/dejavu/DejaVuSans.ttf',\n            '/usr/share/fonts/truetype/liberation/LiberationSans-Regular.ttf'\n        ]\n        \n        for font_path in font_paths:\n            if os.path.exists(font_path):\n                try:\n                    font = ImageFont.truetype(font_path, font_size)\n                    print(f\"✅ 使用字体: {font_path}\")\n                    break\n                except Exception as e:\n                    print(f\"⚠️ 字体加载失败: {font_path} - {e}\")\n                    continue\n    except Exception as e:\n        print(f\"⚠️ 字体加载过程异常: {e}\")\n    \n    # 使用默认字体作为备用\n    if font is None:\n        try:\n            font = ImageFont.load_default()\n            print(\"✅ 使用PIL默认字体\")\n        except:\n            print(\"⚠️ 使用系统默认字体\")\n            font = None\n    \n    # 绘制标题\n    title_font_size = 40\n    try:\n        if font:\n            title_font = ImageFont.truetype(font.path, title_font_size) if hasattr(font, 'path') else font\n        else:\n            title_font = None\n    except:\n        title_font = font\n    \n    # 绘制文本内容\n    y_position = 60\n    line_height = 50\n    \n    for i, text in enumerate(sample_text):\n        try:\n            # 第一行标题居中加粗\n            if i == 0:\n                # 计算居中位置\n                if title_font:\n                    bbox = draw.textbbox((0, 0), text, font=title_font)\n                    text_width = bbox[2] - bbox[0]\n                else:\n                    text_width = len(text) * 12  # 估算宽度\n                x_position = (1000 - text_width) // 2\n                \n                # 绘制标题\n                if title_font:\n                    draw.text((x_position, y_position), text, fill='black', font=title_font)\n                else:\n                    draw.text((x_position, y_position), text, fill='black')\n                print(f\"✅ 绘制标题: {text}\")\n                \n                # 添加下划线\n                draw.line([(x_position, y_position + 45), (x_position + text_width, y_position + 45)], \n                         fill='black', width=2)\n                y_position += 20  # 标题后额外间距\n            else:\n                # 普通文本左对齐\n                x_position = 60\n                if font:\n                    draw.text((x_position, y_position), text, fill='black', font=font)\n                else:\n                    draw.text((x_position, y_position), text, fill='black')\n                print(f\"✅ 绘制文本: {text}\")\n            \n        except Exception as e:\n            print(f\"⚠️ 文字绘制失败: {e} - 文本: {text}\")\n            # 简单备用绘制\n            try:\n                x_pos = 60 if i > 0 else 200\n                draw.text((x_pos, y_position), text, fill='black')\n                print(f\"✅ 备用方式绘制: {text}\")\n            except Exception as e2:\n                print(f\"❌ 备用绘制也失败: {e2}\")\n        \n        y_position += line_height\n    \n    # 添加一些装饰元素增加真实感\n    try:\n        # 添加医院LOGO占位符\n        draw.rectangle([(60, 100), (160, 160)], outline='gray', width=1)\n        draw.text((80, 125), \"LOGO\", fill='gray')\n        \n        # 添加签名线\n        draw.line([(700, 650), (950, 650)], fill='black', width=1)\n        draw.text((700, 660), \"Signature\", fill='gray')\n        \n        print(\"✅ 装饰元素添加完成\")\n    except Exception as e:\n        print(f\"⚠️ 装饰元素添加失败: {e}\")\n    \n    # 保存示例图像\n    sample_path = 'sample_medical_document.png'\n    img.save(sample_path, quality=95, optimize=True)\n    print(f\"📄 创建示例医疗文档: {sample_path}\")\n    \n    # 验证文件创建\n    if os.path.exists(sample_path):\n        file_size = os.path.getsize(sample_path)\n        print(f\"✅ 文件创建成功，大小: {file_size} 字节\")\n    else:\n        print(\"❌ 文件创建失败\")\n    \n    return sample_path\n\ndef translate_to_english(chinese_text):\n    \"\"\"将中文文本转换为英文（备用方案）\"\"\"\n    translations = {\n        \"医院名称：XX市人民医院\": \"Hospital: XX City People's Hospital\",\n        \"患者姓名：张三\": \"Patient Name: Zhang San\",\n        \"性别：男    年龄：45岁\": \"Gender: Male    Age: 45\",\n        \"科室：心血管内科\": \"Department: Cardiology\",\n        \"主治医师：李医生\": \"Doctor: Dr. Li\",\n        \"诊断：高血压、糖尿病\": \"Diagnosis: Hypertension, Diabetes\",\n        \"处方：\": \"Prescription:\",\n        \"1. 降压药 10mg 每日一次\": \"1. Antihypertensive 10mg once daily\",\n        \"2. 降糖药 5mg 每日两次\": \"2. Antidiabetic 5mg twice daily\",\n        \"医生签名：李医生\": \"Doctor Signature: Dr. Li\",\n        \"日期：2024-08-17\": \"Date: 2024-08-17\"\n    }\n    return translations.get(chinese_text, chinese_text)\n\n# 创建示例文档\nprint(\"🎨 创建示例医疗文档...\")\nsample_doc = create_sample_medical_document()\n\n# 显示示例图像\ntry:\n    from IPython.display import Image as IPImage, display  # type: ignore # noqa: F401\n    display(IPImage(sample_doc))\nexcept ImportError:\n    # 在非Jupyter环境中的备用方案\n    print(f\"✅ 示例文档已创建: {sample_doc}\")\n    print(\"💡 在Jupyter/Colab环境中会自动显示图像\")"
  },
  {
   "cell_type": "code",
   "execution_count": null,
   "metadata": {},
   "outputs": [],
   "source": [
    "# ================================\n",
    "# 演示OCR功能\n",
    "# ================================\n",
    "\n",
    "def demo_ocr_functionality():\n",
    "    \"\"\"演示OCR功能\"\"\"\n",
    "    print(\"🚀 开始演示医疗OCR功能...\")\n",
    "    \n",
    "    # 处理示例文档\n",
    "    results = ocr_processor.process_single_image(sample_doc)\n",
    "    \n",
    "    # 显示识别结果\n",
    "    print(\"\\n📊 文字识别结果:\")\n",
    "    print(\"-\" * 60)\n",
    "    \n",
    "    for result in results:\n",
    "        print(f\"行{result['line_number']:2d}: {result['extracted_text']} (置信度: {result['confidence']:.3f})\")\n",
    "    \n",
    "    # 保存结果到CSV\n",
    "    csv_path = 'ocr_results_demo.csv'\n",
    "    df = ocr_processor.save_results_to_csv(results, csv_path)\n",
    "    \n",
    "    print(f\"\\n📈 共识别出 {len(results)} 行文字\")\n",
    "    print(f\"📄 结果已保存到 CSV 文件: {csv_path}\")\n",
    "    \n",
    "    # 显示CSV内容预览\n",
    "    print(\"\\n📋 CSV文件预览:\")\n",
    "    print(df.to_string(index=False))\n",
    "    \n",
    "    return df, csv_path\n",
    "\n",
    "# 运行演示\n",
    "demo_df, demo_csv = demo_ocr_functionality()"
   ]
  },
  {
   "cell_type": "code",
   "execution_count": null,
   "metadata": {},
   "outputs": [],
   "source": "# ================================\n# 创建交互式界面\n# ================================\n\ndef create_gradio_interface():\n    \"\"\"创建Gradio交互界面\"\"\"\n    \n    def process_uploaded_image(image):\n        \"\"\"处理上传的图像\"\"\"\n        if image is None:\n            return \"请上传图像文件\", None\n        \n        try:\n            # 保存临时文件\n            temp_path = \"temp_uploaded_image.png\"\n            Image.fromarray(image).save(temp_path)\n            \n            # 处理图像\n            results = ocr_processor.process_single_image(temp_path)\n            \n            if not results:\n                return \"未识别到文字内容\", None\n            \n            # 生成结果文本\n            result_text = \"📊 识别结果:\\n\\n\"\n            for i, result in enumerate(results, 1):\n                result_text += f\"{i:2d}. {result['extracted_text']} (置信度: {result['confidence']:.3f})\\n\"\n            \n            # 保存CSV文件\n            csv_path = \"ocr_results.csv\"\n            ocr_processor.save_results_to_csv(results, csv_path)\n            \n            result_text += f\"\\n✅ 共识别 {len(results)} 行文字\"\n            result_text += f\"\\n💾 结果已保存到: {csv_path}\"\n            \n            return result_text, csv_path\n            \n        except Exception as e:\n            return f\"❌ 处理失败: {str(e)}\", None\n    \n    # 创建界面\n    interface = gr.Interface(\n        fn=process_uploaded_image,\n        inputs=[\n            gr.Image(label=\"上传医疗文档图像\", type=\"numpy\")\n        ],\n        outputs=[\n            gr.Textbox(label=\"识别结果\", lines=15),\n            gr.File(label=\"下载CSV结果文件\")\n        ],\n        title=\"🏥 医疗文档OCR识别系统\",\n        description=\"上传医疗文档图像，自动识别其中的文字内容并生成CSV报告。支持中英文混合识别。\",\n        examples=[\n            [sample_doc]\n        ],\n        theme=gr.themes.Soft()\n    )\n    \n    return interface\n\n# 创建并启动界面\nprint(\"🌐 创建交互界面...\")\ninterface = create_gradio_interface()\n\nif interface:\n    print(\"✅ 界面创建成功!\")\n    print(\"🚀 启动界面服务...\")\n    interface.launch(\n        share=True,\n        debug=True,\n        show_error=True\n    )\nelse:\n    print(\"❌ 界面创建失败\")"
  },
  {
   "cell_type": "code",
   "execution_count": null,
   "metadata": {},
   "outputs": [],
   "source": [
    "# ================================\n",
    "# 项目总结和使用指南\n",
    "# ================================\n",
    "\n",
    "def show_project_summary():\n",
    "    \"\"\"显示项目总结和使用指南\"\"\"\n",
    "    \n",
    "    summary = \"\"\"\n",
    "🎉 医疗文档OCR识别演示项目运行完成!\n",
    "\n",
    "📋 项目功能总结:\n",
    "✅ 医疗文档图像文字识别\n",
    "✅ 中英文混合文字识别\n",
    "✅ 批量图像处理支持\n",
    "✅ CSV格式结果导出\n",
    "✅ 置信度评估\n",
    "✅ 用户友好的交互界面\n",
    "\n",
    "🛠️ 技术特性:\n",
    "• 基于PaddleOCR高精度识别引擎\n",
    "• 支持GPU加速处理\n",
    "• 自动角度检测和矫正\n",
    "• 结构化数据输出\n",
    "\n",
    "📖 使用场景:\n",
    "• 医疗处方识别\n",
    "• 病历文档数字化\n",
    "• 检查报告提取\n",
    "• 医疗档案管理\n",
    "\n",
    "🔗 项目地址:\n",
    "GitHub: https://github.com/zhurong2020/mcr\n",
    "Colab: 当前notebook链接\n",
    "\n",
    "👨‍⚕️ 适用用户:\n",
    "• 医疗工作者\n",
    "• 数据分析师\n",
    "• 研究人员\n",
    "• 开发者\n",
    "\n",
    "⚠️ 使用说明:\n",
    "1. 确保图像清晰可读\n",
    "2. 支持PNG、JPG等常见格式\n",
    "3. 批量处理时注意文件大小\n",
    "4. 结果仅供参考，重要信息请人工核验\n",
    "\n",
    "💡 技术支持:\n",
    "如有问题或建议，欢迎反馈交流！\n",
    "    \"\"\"\n",
    "    \n",
    "    print(summary)\n",
    "\n",
    "# 显示项目总结\n",
    "show_project_summary()"
   ]
  }
 ]
}